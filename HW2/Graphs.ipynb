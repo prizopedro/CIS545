{
 "cells": [
  {
   "cell_type": "markdown",
   "metadata": {},
   "source": [
    "# CIS 545 Homework 2: Graphs"
   ]
  },
  {
   "cell_type": "code",
   "execution_count": 16,
   "metadata": {},
   "outputs": [
    {
     "name": "stdout",
     "output_type": "stream",
     "text": [
      "Requirement already satisfied: networkx in /opt/conda/lib/python3.6/site-packages\r\n",
      "Requirement already satisfied: decorator>=4.1.0 in /opt/conda/lib/python3.6/site-packages (from networkx)\r\n"
     ]
    }
   ],
   "source": [
    "# Execute this once, the first time you run\n",
    "!pip install networkx\n",
    "\n",
    "# Disable Python warning messages - you should probably only run this before submission\n",
    "\n",
    "import warnings\n",
    "warnings.filterwarnings('ignore')"
   ]
  },
  {
   "cell_type": "markdown",
   "metadata": {},
   "source": [
    "## Step 2.1 Spark Setup"
   ]
  },
  {
   "cell_type": "code",
   "execution_count": 2,
   "metadata": {},
   "outputs": [],
   "source": [
    "# TODO: Connect to Spark as per Step 2.1\n",
    "from pyspark.sql import SparkSession\n",
    "from pyspark.sql.types import *\n",
    "import pyspark.sql.functions as F\n",
    "\n",
    "spark = SparkSession.builder.appName('Graphs-HW2').getOrCreate()"
   ]
  },
  {
   "cell_type": "code",
   "execution_count": 3,
   "metadata": {},
   "outputs": [
    {
     "name": "stdout",
     "output_type": "stream",
     "text": [
      "+---------+-------+\n",
      "|from_node|to_node|\n",
      "+---------+-------+\n",
      "|      123|    456|\n",
      "|      456|    789|\n",
      "|      456|    890|\n",
      "+---------+-------+\n",
      "\n"
     ]
    }
   ],
   "source": [
    "# Load some dummy data, which should be overwritten in Step 2.2\n",
    "\n",
    "answers_sdf = spark.createDataFrame([{'from_node': 123, 'to_node': 456},\\\n",
    "                                    {'from_node': 456, 'to_node': 789},\n",
    "                                    {'from_node': 456, 'to_node': 890}])\n",
    "comments_answers_sdf = spark.createDataFrame([{'from_node': 123, 'to_node': 456}])\n",
    "comments_questions_sdf = spark.createDataFrame([{'from_node': 123, 'to_node': 456}])\n",
    "\n",
    "graph_sdf = spark.createDataFrame([{'from_node': 123, 'to_node': 456}])\n",
    "answers_sdf.show()"
   ]
  },
  {
   "cell_type": "markdown",
   "metadata": {},
   "source": [
    "## Step 2.2 Loading"
   ]
  },
  {
   "cell_type": "code",
   "execution_count": 3,
   "metadata": {},
   "outputs": [],
   "source": [
    "# TODO: load data as per Step 2.2\n",
    "\n",
    "# Read lines from the text file\n",
    "answers_sdf = spark.read.load('sx-stackoverflow-a2q.txt', format=\"text\")\n",
    "comments_answers_sdf = spark.read.load('sx-stackoverflow-c2a.txt', format=\"text\")\n",
    "comments_questions_sdf = spark.read.load('sx-stackoverflow-c2q.txt', format=\"text\")"
   ]
  },
  {
   "cell_type": "code",
   "execution_count": 6,
   "metadata": {},
   "outputs": [],
   "source": [
    "# You may add as many cells as you like here.\n",
    "# Use Insert | Insert Cell Below"
   ]
  },
  {
   "cell_type": "markdown",
   "metadata": {},
   "source": [
    "## Step 2.2 Results"
   ]
  },
  {
   "cell_type": "code",
   "execution_count": 18,
   "metadata": {},
   "outputs": [
    {
     "data": {
      "text/plain": [
       "17823525"
      ]
     },
     "execution_count": 18,
     "metadata": {},
     "output_type": "execute_result"
    }
   ],
   "source": [
    "answers_sdf.count()"
   ]
  },
  {
   "cell_type": "code",
   "execution_count": 19,
   "metadata": {},
   "outputs": [
    {
     "name": "stdout",
     "output_type": "stream",
     "text": [
      "+----------------+\n",
      "|           value|\n",
      "+----------------+\n",
      "|  9 8 1217567877|\n",
      "|  1 1 1217573801|\n",
      "| 13 1 1217606247|\n",
      "| 17 1 1217617639|\n",
      "| 48 2 1217618182|\n",
      "| 17 1 1217618239|\n",
      "| 19 9 1217618357|\n",
      "|13 23 1217618560|\n",
      "|13 11 1217618799|\n",
      "|23 23 1217619360|\n",
      "+----------------+\n",
      "only showing top 10 rows\n",
      "\n"
     ]
    }
   ],
   "source": [
    "answers_sdf.show(10)"
   ]
  },
  {
   "cell_type": "code",
   "execution_count": 20,
   "metadata": {},
   "outputs": [
    {
     "name": "stdout",
     "output_type": "stream",
     "text": [
      "root\n",
      " |-- value: string (nullable = true)\n",
      "\n"
     ]
    }
   ],
   "source": [
    "answers_sdf.printSchema()"
   ]
  },
  {
   "cell_type": "code",
   "execution_count": 21,
   "metadata": {},
   "outputs": [
    {
     "data": {
      "text/plain": [
       "25405374"
      ]
     },
     "execution_count": 21,
     "metadata": {},
     "output_type": "execute_result"
    }
   ],
   "source": [
    "comments_answers_sdf.count()"
   ]
  },
  {
   "cell_type": "code",
   "execution_count": 22,
   "metadata": {},
   "outputs": [
    {
     "name": "stdout",
     "output_type": "stream",
     "text": [
      "+--------------------+\n",
      "|               value|\n",
      "+--------------------+\n",
      "|     1 91 1220713630|\n",
      "|     3 91 1220713792|\n",
      "|  380 350 1220715736|\n",
      "|4642 2257 1220734307|\n",
      "|4642 1324220 1220...|\n",
      "|2495 4285 1220736640|\n",
      "|4642 4893 1220737355|\n",
      "|2515 4903 1220738560|\n",
      "|2515 4893 1220739071|\n",
      "|  199 199 1220741079|\n",
      "+--------------------+\n",
      "only showing top 10 rows\n",
      "\n"
     ]
    }
   ],
   "source": [
    "comments_answers_sdf.show(10)"
   ]
  },
  {
   "cell_type": "code",
   "execution_count": 23,
   "metadata": {},
   "outputs": [
    {
     "name": "stdout",
     "output_type": "stream",
     "text": [
      "root\n",
      " |-- value: string (nullable = true)\n",
      "\n"
     ]
    }
   ],
   "source": [
    "comments_answers_sdf.printSchema()"
   ]
  },
  {
   "cell_type": "code",
   "execution_count": 24,
   "metadata": {},
   "outputs": [
    {
     "data": {
      "text/plain": [
       "20268151"
      ]
     },
     "execution_count": 24,
     "metadata": {},
     "output_type": "execute_result"
    }
   ],
   "source": [
    "comments_questions_sdf.count()"
   ]
  },
  {
   "cell_type": "code",
   "execution_count": 25,
   "metadata": {},
   "outputs": [
    {
     "name": "stdout",
     "output_type": "stream",
     "text": [
      "+--------------------+\n",
      "|               value|\n",
      "+--------------------+\n",
      "|4550 4550 1220729190|\n",
      "|  242 184 1220733503|\n",
      "|4213 4946 1220768149|\n",
      "|    91 91 1220768295|\n",
      "|2658 1874 1220771891|\n",
      "|4035 1874 1220773037|\n",
      "|2257 4489 1220802041|\n",
      "|  577 577 1220834891|\n",
      "|4489 4489 1220853536|\n",
      "| 828 2783 1220854143|\n",
      "+--------------------+\n",
      "only showing top 10 rows\n",
      "\n"
     ]
    }
   ],
   "source": [
    "comments_questions_sdf.show(10)"
   ]
  },
  {
   "cell_type": "code",
   "execution_count": 26,
   "metadata": {},
   "outputs": [
    {
     "name": "stdout",
     "output_type": "stream",
     "text": [
      "root\n",
      " |-- value: string (nullable = true)\n",
      "\n"
     ]
    }
   ],
   "source": [
    "comments_questions_sdf.printSchema()"
   ]
  },
  {
   "cell_type": "markdown",
   "metadata": {},
   "source": [
    "## Step 2.3"
   ]
  },
  {
   "cell_type": "code",
   "execution_count": 4,
   "metadata": {},
   "outputs": [],
   "source": [
    "# TODO: wrangling work in Step 2.3.  Add as many Cells as you need\n",
    "answers_sdf.createOrReplaceTempView('answers_sdf_view')\n",
    "answers_sdf = spark.sql(\"SELECT CAST(split(value, ' ')[0] AS int) AS from_node, CAST(split(value, ' ')[1] AS int) AS to_node, 'answer' AS edge_type FROM answers_sdf_view\")\n",
    "#answers_sdf.show(10)"
   ]
  },
  {
   "cell_type": "code",
   "execution_count": 5,
   "metadata": {},
   "outputs": [],
   "source": [
    "comments_answers_sdf.createOrReplaceTempView('comments_answers_sdf_view')\n",
    "comments_answers_sdf = spark.sql(\"SELECT CAST(split(value, ' ')[0] AS int) AS from_node, CAST(split(value, ' ')[1] AS int) AS to_node, 'comment-on-answer' AS edge_type FROM comments_answers_sdf_view\")\n",
    "#comments_answers_sdf.show(10)"
   ]
  },
  {
   "cell_type": "code",
   "execution_count": 6,
   "metadata": {},
   "outputs": [],
   "source": [
    "comments_questions_sdf.createOrReplaceTempView('comments_questions_sdf_view')\n",
    "comments_questions_sdf = spark.sql(\"SELECT CAST(split(value, ' ')[0] AS int) AS from_node, CAST(split(value, ' ')[1] AS int) AS to_node, 'comment-on-question' AS edge_type FROM comments_questions_sdf_view\")\n",
    "#comments_questions_sdf.show(10)"
   ]
  },
  {
   "cell_type": "code",
   "execution_count": 7,
   "metadata": {},
   "outputs": [],
   "source": [
    "graph_sdf = answers_sdf.unionAll(comments_questions_sdf)\n",
    "graph_sdf = graph_sdf.unionAll(comments_answers_sdf)"
   ]
  },
  {
   "cell_type": "markdown",
   "metadata": {},
   "source": [
    "## Step 2.3 Results"
   ]
  },
  {
   "cell_type": "code",
   "execution_count": 31,
   "metadata": {},
   "outputs": [
    {
     "data": {
      "text/plain": [
       "17823525"
      ]
     },
     "execution_count": 31,
     "metadata": {},
     "output_type": "execute_result"
    }
   ],
   "source": [
    "answers_sdf.count()"
   ]
  },
  {
   "cell_type": "code",
   "execution_count": 32,
   "metadata": {},
   "outputs": [
    {
     "name": "stdout",
     "output_type": "stream",
     "text": [
      "+---------+-------+---------+\n",
      "|from_node|to_node|edge_type|\n",
      "+---------+-------+---------+\n",
      "|        9|      8|   answer|\n",
      "|        1|      1|   answer|\n",
      "|       13|      1|   answer|\n",
      "|       17|      1|   answer|\n",
      "|       48|      2|   answer|\n",
      "+---------+-------+---------+\n",
      "only showing top 5 rows\n",
      "\n"
     ]
    }
   ],
   "source": [
    "answers_sdf.show(5)"
   ]
  },
  {
   "cell_type": "code",
   "execution_count": 33,
   "metadata": {},
   "outputs": [
    {
     "name": "stdout",
     "output_type": "stream",
     "text": [
      "root\n",
      " |-- from_node: integer (nullable = true)\n",
      " |-- to_node: integer (nullable = true)\n",
      " |-- edge_type: string (nullable = false)\n",
      "\n"
     ]
    }
   ],
   "source": [
    "answers_sdf.printSchema()"
   ]
  },
  {
   "cell_type": "code",
   "execution_count": 34,
   "metadata": {},
   "outputs": [
    {
     "data": {
      "text/plain": [
       "25405374"
      ]
     },
     "execution_count": 34,
     "metadata": {},
     "output_type": "execute_result"
    }
   ],
   "source": [
    "comments_answers_sdf.count()"
   ]
  },
  {
   "cell_type": "code",
   "execution_count": 35,
   "metadata": {},
   "outputs": [
    {
     "name": "stdout",
     "output_type": "stream",
     "text": [
      "+---------+-------+-----------------+\n",
      "|from_node|to_node|        edge_type|\n",
      "+---------+-------+-----------------+\n",
      "|        1|     91|comment-on-answer|\n",
      "|        3|     91|comment-on-answer|\n",
      "|      380|    350|comment-on-answer|\n",
      "|     4642|   2257|comment-on-answer|\n",
      "|     4642|1324220|comment-on-answer|\n",
      "+---------+-------+-----------------+\n",
      "only showing top 5 rows\n",
      "\n"
     ]
    }
   ],
   "source": [
    "comments_answers_sdf.show(5)"
   ]
  },
  {
   "cell_type": "code",
   "execution_count": 36,
   "metadata": {},
   "outputs": [
    {
     "name": "stdout",
     "output_type": "stream",
     "text": [
      "root\n",
      " |-- from_node: integer (nullable = true)\n",
      " |-- to_node: integer (nullable = true)\n",
      " |-- edge_type: string (nullable = false)\n",
      "\n"
     ]
    }
   ],
   "source": [
    "comments_answers_sdf.printSchema()"
   ]
  },
  {
   "cell_type": "code",
   "execution_count": 37,
   "metadata": {},
   "outputs": [
    {
     "data": {
      "text/plain": [
       "20268151"
      ]
     },
     "execution_count": 37,
     "metadata": {},
     "output_type": "execute_result"
    }
   ],
   "source": [
    " comments_questions_sdf.count()"
   ]
  },
  {
   "cell_type": "code",
   "execution_count": 38,
   "metadata": {},
   "outputs": [
    {
     "name": "stdout",
     "output_type": "stream",
     "text": [
      "+---------+-------+-------------------+\n",
      "|from_node|to_node|          edge_type|\n",
      "+---------+-------+-------------------+\n",
      "|     4550|   4550|comment-on-question|\n",
      "|      242|    184|comment-on-question|\n",
      "|     4213|   4946|comment-on-question|\n",
      "|       91|     91|comment-on-question|\n",
      "|     2658|   1874|comment-on-question|\n",
      "+---------+-------+-------------------+\n",
      "only showing top 5 rows\n",
      "\n"
     ]
    }
   ],
   "source": [
    "comments_questions_sdf.show(5)"
   ]
  },
  {
   "cell_type": "code",
   "execution_count": 39,
   "metadata": {},
   "outputs": [
    {
     "name": "stdout",
     "output_type": "stream",
     "text": [
      "root\n",
      " |-- from_node: integer (nullable = true)\n",
      " |-- to_node: integer (nullable = true)\n",
      " |-- edge_type: string (nullable = false)\n",
      "\n"
     ]
    }
   ],
   "source": [
    "comments_questions_sdf.printSchema()"
   ]
  },
  {
   "cell_type": "code",
   "execution_count": 40,
   "metadata": {},
   "outputs": [
    {
     "data": {
      "text/plain": [
       "63497050"
      ]
     },
     "execution_count": 40,
     "metadata": {},
     "output_type": "execute_result"
    }
   ],
   "source": [
    "graph_sdf.count()"
   ]
  },
  {
   "cell_type": "code",
   "execution_count": 41,
   "metadata": {},
   "outputs": [
    {
     "name": "stdout",
     "output_type": "stream",
     "text": [
      "+---------+-------+---------+\n",
      "|from_node|to_node|edge_type|\n",
      "+---------+-------+---------+\n",
      "|        9|      8|   answer|\n",
      "|        1|      1|   answer|\n",
      "|       13|      1|   answer|\n",
      "|       17|      1|   answer|\n",
      "|       48|      2|   answer|\n",
      "+---------+-------+---------+\n",
      "only showing top 5 rows\n",
      "\n"
     ]
    }
   ],
   "source": [
    "graph_sdf.show(5)"
   ]
  },
  {
   "cell_type": "code",
   "execution_count": 42,
   "metadata": {},
   "outputs": [
    {
     "name": "stdout",
     "output_type": "stream",
     "text": [
      "root\n",
      " |-- from_node: integer (nullable = true)\n",
      " |-- to_node: integer (nullable = true)\n",
      " |-- edge_type: string (nullable = false)\n",
      "\n"
     ]
    }
   ],
   "source": [
    "graph_sdf.printSchema()"
   ]
  },
  {
   "cell_type": "markdown",
   "metadata": {},
   "source": [
    "## Step 2.4"
   ]
  },
  {
   "cell_type": "code",
   "execution_count": 11,
   "metadata": {},
   "outputs": [],
   "source": [
    "# You may put any computations you need here\n",
    "new_answers_sdf = answers_sdf.groupBy(\"from_node\").count().sort(\"count\", ascending=False)"
   ]
  },
  {
   "cell_type": "code",
   "execution_count": 12,
   "metadata": {},
   "outputs": [],
   "source": [
    "distinct_answers_sdf = answers_sdf.select('from_node','to_node').dropDuplicates()\n",
    "distinct_answers_sdf = distinct_answers_sdf.groupBy(\"from_node\").count().sort(\"count\", ascending=False)"
   ]
  },
  {
   "cell_type": "markdown",
   "metadata": {},
   "source": [
    "## Step 2.4.1 Results"
   ]
  },
  {
   "cell_type": "code",
   "execution_count": 61,
   "metadata": {},
   "outputs": [
    {
     "name": "stdout",
     "output_type": "stream",
     "text": [
      "+---------+-----+\n",
      "|from_node|count|\n",
      "+---------+-----+\n",
      "|    22656|32030|\n",
      "|  1144035|25146|\n",
      "|    29407|20842|\n",
      "|   548225|16944|\n",
      "|   157882|16615|\n",
      "|   115145|16515|\n",
      "|    17034|15437|\n",
      "|   100297|15020|\n",
      "|     6309|14291|\n",
      "|    34397|14033|\n",
      "+---------+-----+\n",
      "only showing top 10 rows\n",
      "\n"
     ]
    }
   ],
   "source": [
    "# TODO: output dataframe with top 10 users by number of questions\n",
    "new_answers_sdf.show(10)"
   ]
  },
  {
   "cell_type": "code",
   "execution_count": 64,
   "metadata": {},
   "outputs": [
    {
     "name": "stdout",
     "output_type": "stream",
     "text": [
      "+---------+-----+\n",
      "|from_node|count|\n",
      "+---------+-----+\n",
      "|    22656|22860|\n",
      "|  1144035|21032|\n",
      "|   548225|14127|\n",
      "|    29407|13043|\n",
      "|   115145|12243|\n",
      "|    19068|12114|\n",
      "|   100297|11486|\n",
      "|    34397|11368|\n",
      "|    17034|11347|\n",
      "|     6309|11057|\n",
      "+---------+-----+\n",
      "only showing top 10 rows\n",
      "\n"
     ]
    }
   ],
   "source": [
    "# TODO: output top 10 users by number of answers to questions by distinct users\n",
    "distinct_answers_sdf.show(10)"
   ]
  },
  {
   "cell_type": "markdown",
   "metadata": {},
   "source": [
    "## Step 2.4.2 Results"
   ]
  },
  {
   "cell_type": "code",
   "execution_count": 13,
   "metadata": {},
   "outputs": [
    {
     "data": {
      "text/plain": [
       "150681"
      ]
     },
     "execution_count": 13,
     "metadata": {},
     "output_type": "execute_result"
    }
   ],
   "source": [
    "# TODO: number of users whose questions have never been answered or commented on\n",
    "ignored_users = comments_questions_sdf.select('to_node').subtract(answers_sdf.select('to_node'))\n",
    "ignored_users.count()"
   ]
  },
  {
   "cell_type": "markdown",
   "metadata": {},
   "source": [
    "## Step 2.4.3 Results"
   ]
  },
  {
   "cell_type": "code",
   "execution_count": 89,
   "metadata": {},
   "outputs": [
    {
     "name": "stdout",
     "output_type": "stream",
     "text": [
      "+---------+-------+-----+\n",
      "|from_node|to_node|count|\n",
      "+---------+-------+-----+\n",
      "|   315935| 742402|  155|\n",
      "|   217408|2258442|  105|\n",
      "|     6309| 399145|   81|\n",
      "|   157882|1391249|   78|\n",
      "|   157882| 240337|   76|\n",
      "|     6309| 470184|   76|\n",
      "|    91299| 167454|   73|\n",
      "|   505088|  46207|   72|\n",
      "|   505088| 988445|   69|\n",
      "|    15168| 366797|   63|\n",
      "|    29407|   4653|   62|\n",
      "|   157882| 429377|   61|\n",
      "|    95810| 234322|   61|\n",
      "|   157882| 128076|   59|\n",
      "|   315935|   4653|   58|\n",
      "|   157882| 530153|   58|\n",
      "|   127549| 257022|   57|\n",
      "|   505088| 650492|   56|\n",
      "|    65358|  51816|   56|\n",
      "|  1070452|1248295|   56|\n",
      "+---------+-------+-----+\n",
      "only showing top 20 rows\n",
      "\n"
     ]
    }
   ],
   "source": [
    "# TODO: top 10 pairs of users by mutual answers, along with the number of questions they have mutually answered\n",
    "repeated_answers_sdf = answers_sdf.select(answers_sdf.from_node, F.when(answers_sdf.from_node != answers_sdf.to_node, answers_sdf.to_node).alias(\"to_node\")).dropna()\n",
    "repeated_answers_sdf = repeated_answers_sdf.groupBy(\"from_node\",\"to_node\").count().sort(\"count\", ascending=False)\n",
    "repeated_answers_sdf.show(20)"
   ]
  },
  {
   "cell_type": "markdown",
   "metadata": {},
   "source": [
    "# Step 3"
   ]
  },
  {
   "cell_type": "code",
   "execution_count": 107,
   "metadata": {},
   "outputs": [],
   "source": [
    "# TODO: remove these, which just create dummy data\n",
    "#highest_indegree_sdf = spark.createDataFrame([{'node': 123, 'indegree': 4}])\n",
    "#highest_outdegree_sdf = spark.createDataFrame([{'node': 123, 'outdegree': 5}])\n",
    "\n",
    "# TODO: Fill in according to HW spec\n",
    "'''\n",
    "'''\n",
    "highest_indegree_sdf = graph_sdf.groupBy(\"to_node\").count().sort(\"count\", ascending=False)\n",
    "highest_indegree_sdf = highest_indegree_sdf.withColumnRenamed('count', 'indegree')\n",
    "highest_indegree_sdf = highest_indegree_sdf.withColumnRenamed('to_node', 'node')\n",
    "#highest_indegree_sdf = highest_indegree_sdf.select(\"indegree\",\"node\")\n",
    "\n",
    "highest_outdegree_sdf = graph_sdf.groupBy(\"from_node\").count().sort(\"count\", ascending=False)\n",
    "highest_outdegree_sdf = highest_outdegree_sdf.withColumnRenamed('count', 'outdegree')\n",
    "highest_outdegree_sdf = highest_outdegree_sdf.withColumnRenamed('from_node', 'node')\n"
   ]
  },
  {
   "cell_type": "markdown",
   "metadata": {},
   "source": [
    "## Step 3 Results"
   ]
  },
  {
   "cell_type": "code",
   "execution_count": 108,
   "metadata": {},
   "outputs": [
    {
     "name": "stdout",
     "output_type": "stream",
     "text": [
      "+-------+--------+\n",
      "|   node|indegree|\n",
      "+-------+--------+\n",
      "|  22656|   93143|\n",
      "| 548225|   54410|\n",
      "|  29407|   45824|\n",
      "| 157882|   39576|\n",
      "|1144035|   38909|\n",
      "+-------+--------+\n",
      "only showing top 5 rows\n",
      "\n"
     ]
    }
   ],
   "source": [
    "highest_indegree_sdf.show(5)"
   ]
  },
  {
   "cell_type": "code",
   "execution_count": 104,
   "metadata": {},
   "outputs": [
    {
     "name": "stdout",
     "output_type": "stream",
     "text": [
      "+-------+---------+\n",
      "|   node|outdegree|\n",
      "+-------+---------+\n",
      "|  22656|   101663|\n",
      "| 505088|    65522|\n",
      "|  17034|    65260|\n",
      "|1491895|    62746|\n",
      "| 100297|    54330|\n",
      "+-------+---------+\n",
      "only showing top 5 rows\n",
      "\n"
     ]
    }
   ],
   "source": [
    "highest_outdegree_sdf.show(5)"
   ]
  },
  {
   "cell_type": "markdown",
   "metadata": {},
   "source": [
    "## Step 4"
   ]
  },
  {
   "cell_type": "code",
   "execution_count": 108,
   "metadata": {},
   "outputs": [],
   "source": [
    "# TODO: insert code as you like"
   ]
  },
  {
   "cell_type": "code",
   "execution_count": 8,
   "metadata": {},
   "outputs": [],
   "source": [
    "#\n",
    "# Step 4.1 Pre-processing\n",
    "#\n",
    "def spark_bfs(G, origins, max_depth):\n",
    "    \n",
    "    depth = 0\n",
    "    schema = StructType([StructField(\"node\", IntegerType(), True)])\n",
    "    frontier_sdf = spark.createDataFrame(origins, schema)\n",
    "    G = G.cache()\n",
    "    frontier_sdf = frontier_sdf.cache()\n",
    "     \n",
    "    for depth in range(max_depth):\n",
    "        reachable_sdf = frontier_sdf.alias('df1').join(G.alias('df2'), F.col('df1.node') == F.col('df2.from_node'))\n",
    "        reachable_sdf = reachable_sdf.select('to_node')\n",
    "        \n",
    "        if depth == 0:           \n",
    "            visited_sdf = frontier_sdf\n",
    "            return_sdf = visited_sdf.withColumn('depth_found',F.lit(depth))\n",
    "        #else:\n",
    "        #    visited_sdf = visited_sdf.unionAll(frontier_sdf)\n",
    "        #    return_sdf = return_sdf.unionAll(reached_sdf.withColumn('depth',F.lit(depth)))\n",
    "        \n",
    "        #Here I remove both visited and frontier nodes from G\n",
    "        G = G.join(frontier_sdf, frontier_sdf['node']==G['to_node'], 'leftanti')\n",
    "        G = G.join(frontier_sdf, frontier_sdf['node']==G['from_node'], 'leftanti')\n",
    "        \n",
    "        #Here I update frontier and reached for my next iteration\n",
    "        frontier_sdf = reachable_sdf\n",
    "        frontier_sdf = frontier_sdf.distinct().withColumnRenamed('to_node', 'node')\n",
    "        reached_sdf = reachable_sdf.join(visited_sdf, reachable_sdf['to_node'] == visited_sdf['node'], 'leftanti')\n",
    "        \n",
    "        visited_sdf = visited_sdf.unionAll(frontier_sdf)\n",
    "        return_sdf = return_sdf.unionAll(reached_sdf.withColumn('depth',F.lit(depth+1)))\n",
    "    \n",
    "    G = G.unpersist()\n",
    "    frontier_sdf = frontier_sdf.unpersist()\n",
    "    \n",
    "    return return_sdf\n",
    "\n"
   ]
  },
  {
   "cell_type": "markdown",
   "metadata": {},
   "source": [
    "## Step 4.1"
   ]
  },
  {
   "cell_type": "code",
   "execution_count": 9,
   "metadata": {
    "scrolled": true
   },
   "outputs": [],
   "source": [
    "# TODO: comment out this line once your code is ready\n",
    "#bfs_sdf = spark.createDataFrame([{'node': 123, 'depth': 1}, {'node': 456, 'depth': 2}])\n",
    "\n",
    "# TODO: enable this once your code is ready\n",
    "origin_map = [{'node': 4550}, {'node': 242}]\n",
    "bfs_sdf = spark_bfs(comments_questions_sdf, origin_map, 2)"
   ]
  },
  {
   "cell_type": "code",
   "execution_count": 10,
   "metadata": {},
   "outputs": [
    {
     "data": {
      "text/plain": [
       "396"
      ]
     },
     "execution_count": 10,
     "metadata": {},
     "output_type": "execute_result"
    }
   ],
   "source": [
    "# TODO: insert code as you like\n",
    "bfs_sdf.count()"
   ]
  },
  {
   "cell_type": "markdown",
   "metadata": {},
   "source": [
    "## Step 4.1 Results"
   ]
  },
  {
   "cell_type": "code",
   "execution_count": 45,
   "metadata": {},
   "outputs": [
    {
     "name": "stdout",
     "output_type": "stream",
     "text": [
      "+-------+-----------+\n",
      "|   node|depth_found|\n",
      "+-------+-----------+\n",
      "|   4550|          0|\n",
      "|    242|          0|\n",
      "|    184|          1|\n",
      "|  45459|          1|\n",
      "|   1551|          1|\n",
      "|  67719|          1|\n",
      "| 451383|          1|\n",
      "|1139389|          1|\n",
      "| 633513|          1|\n",
      "| 602291|          1|\n",
      "+-------+-----------+\n",
      "only showing top 10 rows\n",
      "\n"
     ]
    }
   ],
   "source": [
    "bfs_sdf.show(10)"
   ]
  },
  {
   "cell_type": "markdown",
   "metadata": {},
   "source": [
    "## Step 4.2"
   ]
  },
  {
   "cell_type": "code",
   "execution_count": 11,
   "metadata": {},
   "outputs": [],
   "source": [
    "#\n",
    "# Step 4.2 Pre-processing\n",
    "#\n",
    "def friend_rec(input_sdf, graph_sdf):\n",
    "    \n",
    "    end_node = filtered_bfs_sdf.withColumnRenamed('node', 'end_node')\n",
    "    init_node = filtered_bfs_sdf.withColumnRenamed('node', 'init_node')\n",
    "    \n",
    "    \n",
    "    friend_recommendations_sdf = init_node.join(end_node, init_node['init_node'] != end_node['end_node'])\n",
    "    #friend_recommendations_sdf = friend_recommendations_sdf.select('init_node', 'end_node')\n",
    "    \n",
    "    #Here we eliminate the direct links between pairs\n",
    "    #We check that the init and end are not corresponding to the from_node and to_node\n",
    "    friend_recommendations_sdf = friend_recommendations_sdf.join(graph_sdf, (friend_recommendations_sdf['init_node'] == graph_sdf['from_node']) & (friend_recommendations_sdf['end_node'] == graph_sdf['to_node']), 'leftanti')\n",
    "    friend_recommendations_sdf = friend_recommendations_sdf.join(graph_sdf, (friend_recommendations_sdf['init_node'] == graph_sdf['to_node']) & (friend_recommendations_sdf['end_node'] == graph_sdf['from_node']),'leftanti')\n",
    "    friend_recommendations_sdf = friend_recommendations_sdf['init_node','end_node']\n",
    "    \n",
    "    return friend_recommendations_sdf"
   ]
  },
  {
   "cell_type": "code",
   "execution_count": 12,
   "metadata": {
    "scrolled": true
   },
   "outputs": [],
   "source": [
    "# TODO: insert code as you like\n",
    "filtered_bfs_sdf = bfs_sdf.filter(bfs_sdf['depth_found'] > 1)\n",
    "filtered_bfs_sdf = filtered_bfs_sdf.groupby(filtered_bfs_sdf['node']).count()\n",
    "filtered_bfs_sdf = filtered_bfs_sdf.filter(filtered_bfs_sdf['count'] > 1)\n",
    "#filtered_bfs_sdf.show(5)"
   ]
  },
  {
   "cell_type": "code",
   "execution_count": 13,
   "metadata": {},
   "outputs": [],
   "source": [
    "# TODO: comment this line out when your function works\n",
    "#friend_recommendations_sdf = spark.createDataFrame([\\\n",
    "#                                                    {'from_node': 123, 'to_node': 456}, \\\n",
    "#                                                    {'from_node': 456, 'to_node': 123}])\n",
    "\n",
    "\n",
    "# TODO: enable this when your function works\n",
    "\n",
    "friend_recommendations_sdf = friend_rec(filtered_bfs_sdf, comments_questions_sdf)\n",
    "friend_recommendations_sdf = friend_recommendations_sdf.cache()"
   ]
  },
  {
   "cell_type": "markdown",
   "metadata": {},
   "source": [
    "## Step 4.2 Results"
   ]
  },
  {
   "cell_type": "code",
   "execution_count": 16,
   "metadata": {},
   "outputs": [
    {
     "data": {
      "text/plain": [
       "1720"
      ]
     },
     "execution_count": 16,
     "metadata": {},
     "output_type": "execute_result"
    }
   ],
   "source": [
    "friend_recommendations_sdf.count()"
   ]
  },
  {
   "cell_type": "code",
   "execution_count": 15,
   "metadata": {},
   "outputs": [
    {
     "name": "stdout",
     "output_type": "stream",
     "text": [
      "+---------+--------+\n",
      "|init_node|end_node|\n",
      "+---------+--------+\n",
      "|    21918|  453447|\n",
      "|    21918| 4204628|\n",
      "|    46646|  267679|\n",
      "|    59017| 1187554|\n",
      "|   104015|   55503|\n",
      "|   211452|   59017|\n",
      "|   503032| 2269511|\n",
      "|  1406214|  503032|\n",
      "|  2269511|   21918|\n",
      "|  3830157|  132640|\n",
      "|  4204628|   47550|\n",
      "|    46646| 1127460|\n",
      "|    55503|  104015|\n",
      "|    60602| 1187554|\n",
      "|   267679| 1061543|\n",
      "|   393268|  318811|\n",
      "|  1218595| 1187554|\n",
      "|  1218595| 4800193|\n",
      "|    27483|   46646|\n",
      "|    63775|   46646|\n",
      "+---------+--------+\n",
      "only showing top 20 rows\n",
      "\n"
     ]
    }
   ],
   "source": [
    "friend_recommendations_sdf.repartition(50, 'init_node')\n",
    "friend_recommendations_sdf.show()"
   ]
  },
  {
   "cell_type": "code",
   "execution_count": 21,
   "metadata": {},
   "outputs": [
    {
     "data": {
      "text/plain": [
       "DataFrame[init_node: int, end_node: int]"
      ]
     },
     "execution_count": 21,
     "metadata": {},
     "output_type": "execute_result"
    }
   ],
   "source": [
    "friend_recommendations_sdf = friend_recommendations_sdf.unpersist()"
   ]
  },
  {
   "cell_type": "markdown",
   "metadata": {},
   "source": [
    "## Step 4.3: Graph visualization"
   ]
  },
  {
   "cell_type": "markdown",
   "metadata": {},
   "source": [
    "### Once you have excecuted the cells in Step 4.2 and you have friend_recommendations_sdf, lets create friend_recommendations_df using toPandas(). This creates an in-memory dataFrame that we can use to build the graph. Here we have used ('from_node','to_node') as column names in friend_recommendations_sdf, please change it to what you have used in yours."
   ]
  },
  {
   "cell_type": "code",
   "execution_count": 17,
   "metadata": {},
   "outputs": [],
   "source": [
    "import networkx as nx\n",
    "\n",
    "# TODO: create friend_graph NetworkX graph from friend_recommendations_df from friend_recommendations_sdf\n",
    "friend_recommendations_df = friend_recommendations_sdf.toPandas()\n",
    "friend_graph = nx.from_pandas_dataframe(friend_recommendations_df, 'init_node', 'end_node')"
   ]
  },
  {
   "cell_type": "markdown",
   "metadata": {},
   "source": [
    "## Step 4.3 Results"
   ]
  },
  {
   "cell_type": "code",
   "execution_count": 18,
   "metadata": {},
   "outputs": [
    {
     "name": "stdout",
     "output_type": "stream",
     "text": [
      "Number of nodes (characters) in this graph is 42\n",
      "Number of edges in this graph is 860\n",
      "Graph diameter is 2\n"
     ]
    }
   ],
   "source": [
    "print (\"Number of nodes (characters) in this graph is\", friend_graph.order()) # number of nodes\n",
    "print (\"Number of edges in this graph is\", len(friend_graph.edges())) # number of edges\n",
    "print (\"Graph diameter is\", nx.diameter(friend_graph)) # maximum eccentricity"
   ]
  },
  {
   "cell_type": "code",
   "execution_count": 19,
   "metadata": {},
   "outputs": [
    {
     "data": {
      "image/png": "[encoded data removed]",
      "text/plain": [
       "<matplotlib.figure.Figure at 0x7fa529ed8a20>"
      ]
     },
     "metadata": {},
     "output_type": "display_data"
    }
   ],
   "source": [
    " %matplotlib inline\n",
    " nx.draw(friend_graph)"
   ]
  },
  {
   "cell_type": "code",
   "execution_count": null,
   "metadata": {},
   "outputs": [],
   "source": []
  }
 ],
 "metadata": {
  "kernelspec": {
   "display_name": "Python 3",
   "language": "python",
   "name": "python3"
  },
  "language_info": {
   "codemirror_mode": {
    "name": "ipython",
    "version": 3
   },
   "file_extension": ".py",
   "mimetype": "text/x-python",
   "name": "python",
   "nbconvert_exporter": "python",
   "pygments_lexer": "ipython3",
   "version": "3.6.3"
  }
 },
 "nbformat": 4,
 "nbformat_minor": 2
}
